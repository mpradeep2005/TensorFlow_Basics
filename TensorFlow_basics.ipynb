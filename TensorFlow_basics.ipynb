{
  "nbformat": 4,
  "nbformat_minor": 0,
  "metadata": {
    "colab": {
      "provenance": [],
      "authorship_tag": "ABX9TyOERm8JzC1nZ6jBWfEAJ+wB",
      "include_colab_link": true
    },
    "kernelspec": {
      "name": "python3",
      "display_name": "Python 3"
    },
    "language_info": {
      "name": "python"
    }
  },
  "cells": [
    {
      "cell_type": "markdown",
      "metadata": {
        "id": "view-in-github",
        "colab_type": "text"
      },
      "source": [
        "<a href=\"https://colab.research.google.com/github/mpradeep2005/TensorFlow_Basics/blob/main/TensorFlow_basics.ipynb\" target=\"_parent\"><img src=\"https://colab.research.google.com/assets/colab-badge.svg\" alt=\"Open In Colab\"/></a>"
      ]
    },
    {
      "cell_type": "code",
      "execution_count": null,
      "metadata": {
        "id": "oOTUR4jQ4faI"
      },
      "outputs": [],
      "source": [
        "import tensorflow as tf"
      ]
    },
    {
      "cell_type": "code",
      "source": [
        "tensor_1=tf.constant(4)\n",
        "print(tensor_1)"
      ],
      "metadata": {
        "colab": {
          "base_uri": "https://localhost:8080/"
        },
        "id": "FeKR_owS5Ybo",
        "outputId": "dfce843f-c8ec-4d1b-f64d-28bffa9024a5"
      },
      "execution_count": null,
      "outputs": [
        {
          "output_type": "stream",
          "name": "stdout",
          "text": [
            "tf.Tensor(4, shape=(), dtype=int32)\n"
          ]
        }
      ]
    },
    {
      "cell_type": "code",
      "source": [
        "tensor_2=tf.constant([2,3,4])\n",
        "print(tensor_2)"
      ],
      "metadata": {
        "colab": {
          "base_uri": "https://localhost:8080/"
        },
        "id": "vW4URptg8P0k",
        "outputId": "50626cd0-11c9-4531-c7d9-ae6ba55195f6"
      },
      "execution_count": 4,
      "outputs": [
        {
          "output_type": "stream",
          "name": "stdout",
          "text": [
            "tf.Tensor([2 3 4], shape=(3,), dtype=int32)\n"
          ]
        }
      ]
    },
    {
      "cell_type": "code",
      "source": [
        "tensor_3=tf.constant(\n",
        "    [[1,2,3],\n",
        "     [4,2,5],\n",
        "     [6,4,2]]\n",
        ")\n",
        "print(tensor_3)"
      ],
      "metadata": {
        "colab": {
          "base_uri": "https://localhost:8080/"
        },
        "id": "VwtQ1ki-8ebF",
        "outputId": "0a5df861-92da-46d1-c73f-184a23d76069"
      },
      "execution_count": 5,
      "outputs": [
        {
          "output_type": "stream",
          "name": "stdout",
          "text": [
            "tf.Tensor(\n",
            "[[1 2 3]\n",
            " [4 2 5]\n",
            " [6 4 2]], shape=(3, 3), dtype=int32)\n"
          ]
        }
      ]
    },
    {
      "cell_type": "code",
      "source": [
        "tensor_4=tf.constant(\n",
        "     [[[1,2,3],\n",
        "     [4,2,5],\n",
        "     [6,4,2]],\n",
        "    [[1,2,3],\n",
        "     [4,2,5],\n",
        "     [6,4,2]],\n",
        "    [[1,2,3],\n",
        "     [4,2,5],\n",
        "     [6,4,2]],\n",
        "    [[1,2,3],\n",
        "     [4,2,5],\n",
        "     [6,4,2]]]\n",
        ")\n",
        "print(tensor_4)"
      ],
      "metadata": {
        "colab": {
          "base_uri": "https://localhost:8080/"
        },
        "id": "MkJED8FG8z7C",
        "outputId": "f7749034-7063-41d0-ccea-c8139b016e64"
      },
      "execution_count": 6,
      "outputs": [
        {
          "output_type": "stream",
          "name": "stdout",
          "text": [
            "tf.Tensor(\n",
            "[[[1 2 3]\n",
            "  [4 2 5]\n",
            "  [6 4 2]]\n",
            "\n",
            " [[1 2 3]\n",
            "  [4 2 5]\n",
            "  [6 4 2]]\n",
            "\n",
            " [[1 2 3]\n",
            "  [4 2 5]\n",
            "  [6 4 2]]\n",
            "\n",
            " [[1 2 3]\n",
            "  [4 2 5]\n",
            "  [6 4 2]]], shape=(4, 3, 3), dtype=int32)\n"
          ]
        }
      ]
    }
  ]
}